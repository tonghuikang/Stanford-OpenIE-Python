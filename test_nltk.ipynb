{
 "cells": [
  {
   "cell_type": "code",
   "execution_count": 8,
   "metadata": {},
   "outputs": [
    {
     "name": "stdout",
     "output_type": "stream",
     "text": [
      "(S\n",
      "  President/NNP\n",
      "  (PERSON Obama/NNP)\n",
      "  is/VBZ\n",
      "  a/DT\n",
      "  dictator/NN\n",
      "  of/IN\n",
      "  the/DT\n",
      "  (GPE United/NNP States/NNPS)\n",
      "  of/IN\n",
      "  (GPE America/NNP)\n",
      "  ./.)\n"
     ]
    }
   ],
   "source": [
    "import nltk\n",
    "import re \n",
    "from nltk.chunk import ne_chunk_sents\n",
    "from nltk.sem import relextract\n",
    "# https://stackoverflow.com/questions/12264593/how-to-extract-relationship-from-text-in-nltk\n",
    "\n",
    "def findrelations(text):\n",
    "    roles = \"\"\"\n",
    "    (.*(                   \n",
    "    analyst|\n",
    "    editor|\n",
    "    librarian).*)|\n",
    "    researcher|\n",
    "    spokes(wo)?man|\n",
    "    writer|\n",
    "    ,\\sof\\sthe?\\s*  # \"X, of (the) Y\"\n",
    "    \"\"\"\n",
    "    ROLES = re.compile(roles, re.VERBOSE)\n",
    "\n",
    "    sentences = nltk.sent_tokenize(text)\n",
    "    tokenized_sentences = [nltk.word_tokenize(sentence) for sentence in sentences]\n",
    "    tagged_sentences = [nltk.pos_tag(sentence) for sentence in tokenized_sentences]\n",
    "    chunked_sentences = nltk.ne_chunk_sents(tagged_sentences)\n",
    "\n",
    "\n",
    "    for doc in chunked_sentences:\n",
    "        print(doc)\n",
    "        for rel in relextract.extract_rels('PER', 'ORG', doc, corpus='ace', pattern=ROLES):\n",
    "            #it is a tree, so you need to work on it to output what you want\n",
    "            print(relextract.show_raw_rtuple(rel))\n",
    "\n",
    "findrelations('President Obama is a dictator of the United States of America.')"
   ]
  },
  {
   "cell_type": "code",
   "execution_count": null,
   "metadata": {},
   "outputs": [],
   "source": []
  }
 ],
 "metadata": {
  "kernelspec": {
   "display_name": "Python [conda env:nlp]",
   "language": "python",
   "name": "conda-env-nlp-py"
  },
  "language_info": {
   "codemirror_mode": {
    "name": "ipython",
    "version": 3
   },
   "file_extension": ".py",
   "mimetype": "text/x-python",
   "name": "python",
   "nbconvert_exporter": "python",
   "pygments_lexer": "ipython3",
   "version": "3.6.5"
  }
 },
 "nbformat": 4,
 "nbformat_minor": 2
}
